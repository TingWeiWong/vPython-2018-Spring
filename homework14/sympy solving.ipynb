{
 "cells": [
  {
   "cell_type": "code",
   "execution_count": 39,
   "metadata": {
    "collapsed": true
   },
   "outputs": [],
   "source": [
    "from sympy import*\n",
    "from sympy.vector import*\n",
    "x,y,z,M,m,theta,H,c=symbols(\"x y z M m theta H c\")\n",
    "init_printing()"
   ]
  },
  {
   "cell_type": "code",
   "execution_count": 40,
   "metadata": {
    "collapsed": true
   },
   "outputs": [],
   "source": [
    "c=(H**2*M+m*x**2)/(2*M*H+2*m*x)"
   ]
  },
  {
   "cell_type": "code",
   "execution_count": 41,
   "metadata": {},
   "outputs": [],
   "source": [
    "y=(1) / (z**2+x**2)**(3.0/2)*cos(pi*x)**2\n",
    "z=(1) /(z**2+x**2)**(3.0/2)"
   ]
  },
  {
   "cell_type": "code",
   "execution_count": 46,
   "metadata": {},
   "outputs": [
    {
     "data": {
      "image/png": "[encoded data removed]",
      "text/latex": [
       "$$- \\cos{\\left (x \\right )}$$"
      ],
      "text/plain": [
       "-cos(x)"
      ]
     },
     "execution_count": 46,
     "metadata": {},
     "output_type": "execute_result"
    }
   ],
   "source": [
    "integrate(sin(x),x)"
   ]
  },
  {
   "cell_type": "code",
   "execution_count": 47,
   "metadata": {},
   "outputs": [
    {
     "data": {
      "image/png": "[encoded data removed]",
      "text/latex": [
       "$$\\left ( \\frac{\\cos^{2}{\\left (\\pi x \\right )}}{\\left(x^{2} + z^{2}\\right)^{1.5}}, \\quad \\left(x^{2} + z^{2}\\right)^{-1.5}\\right )$$"
      ],
      "text/plain": [
       "⎛         -1.5                     -1.5⎞\n",
       "⎜⎛ 2    2⎞        2       ⎛ 2    2⎞    ⎟\n",
       "⎝⎝x  + z ⎠    ⋅cos (π⋅x), ⎝x  + z ⎠    ⎠"
      ]
     },
     "execution_count": 47,
     "metadata": {},
     "output_type": "execute_result"
    }
   ],
   "source": [
    "y,z"
   ]
  },
  {
   "cell_type": "code",
   "execution_count": 44,
   "metadata": {},
   "outputs": [
    {
     "data": {
      "image/png": "[encoded data removed]",
      "text/latex": [
       "$$\\int \\frac{\\cos^{2}{\\left (\\pi x \\right )}}{\\left(x^{2} + z^{2}\\right)^{1.5}}\\, dx$$"
      ],
      "text/plain": [
       "⌠                           \n",
       "⎮          -1.5             \n",
       "⎮ ⎛ 2    2⎞        2        \n",
       "⎮ ⎝x  + z ⎠    ⋅cos (π⋅x) dx\n",
       "⌡                           "
      ]
     },
     "execution_count": 44,
     "metadata": {},
     "output_type": "execute_result"
    }
   ],
   "source": [
    "integrate(y,x)"
   ]
  },
  {
   "cell_type": "code",
   "execution_count": 48,
   "metadata": {},
   "outputs": [
    {
     "data": {
      "image/png": "[encoded data removed]",
      "text/latex": [
       "$$\\frac{0.564189583547756 \\sqrt{\\pi} x}{z^{3.0} \\sqrt{\\frac{x^{2}}{z^{2}} + 1}}$$"
      ],
      "text/plain": [
       "                        -3.0\n",
       "0.564189583547756⋅√π⋅x⋅z    \n",
       "────────────────────────────\n",
       "             ________       \n",
       "            ╱  2            \n",
       "           ╱  x             \n",
       "          ╱   ── + 1        \n",
       "         ╱     2            \n",
       "       ╲╱     z             "
      ]
     },
     "execution_count": 48,
     "metadata": {},
     "output_type": "execute_result"
    }
   ],
   "source": [
    "integrate(z,x)"
   ]
  },
  {
   "cell_type": "code",
   "execution_count": null,
   "metadata": {
    "collapsed": true
   },
   "outputs": [],
   "source": []
  }
 ],
 "metadata": {
  "kernelspec": {
   "display_name": "Python 2",
   "language": "python",
   "name": "python2"
  },
  "language_info": {
   "codemirror_mode": {
    "name": "ipython",
    "version": 2
   },
   "file_extension": ".py",
   "mimetype": "text/x-python",
   "name": "python",
   "nbconvert_exporter": "python",
   "pygments_lexer": "ipython2",
   "version": "2.7.14"
  }
 },
 "nbformat": 4,
 "nbformat_minor": 2
}
